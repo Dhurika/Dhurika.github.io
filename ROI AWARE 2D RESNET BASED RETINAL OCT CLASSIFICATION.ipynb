{
 "cells": [
  {
   "cell_type": "markdown",
   "id": "367d594e",
   "metadata": {},
   "source": [
    "## Load the dataset"
   ]
  },
  {
   "cell_type": "code",
   "execution_count": 29,
   "id": "724d6943",
   "metadata": {},
   "outputs": [],
   "source": [
    "import numpy as np\n",
    "import os\n",
    "import cv2\n",
    "import matplotlib.pyplot as plt\n",
    "from tensorflow.keras.preprocessing import image\n",
    "from tensorflow.keras.preprocessing.image import ImageDataGenerator"
   ]
  },
  {
   "cell_type": "code",
   "execution_count": 18,
   "id": "5a1dfd34",
   "metadata": {},
   "outputs": [
    {
     "name": "stdout",
     "output_type": "stream",
     "text": [
      "Found 83484 images belonging to 4 classes.\n",
      "Found 968 images belonging to 4 classes.\n"
     ]
    }
   ],
   "source": [
    "train = 'Dataset/OCT2017/train'\n",
    "test = 'Dataset/OCT2017/test'\n",
    "#rescale parameter equal to 1/255 to normalize these values\n",
    "train_datagen = ImageDataGenerator(rescale=(1./255))\n",
    "test_datagen = ImageDataGenerator(rescale=(1./255))\n",
    "training_set = train_datagen.flow_from_directory(directory = train,target_size=(224,224),batch_size=128,class_mode = \"categorical\")\n",
    "test_set = test_datagen.flow_from_directory(directory = test,target_size=(224,224),batch_size=128,class_mode = \"categorical\")"
   ]
  },
  {
   "cell_type": "code",
   "execution_count": 19,
   "id": "82fa134c",
   "metadata": {},
   "outputs": [
    {
     "data": {
      "text/plain": [
       "761856"
      ]
     },
     "execution_count": 19,
     "metadata": {},
     "output_type": "execute_result"
    }
   ],
   "source": [
    "image = cv2.imread('Dataset/OCT2017/train/CNV/CNV-81630-8.jpeg')\n",
    "image.size "
   ]
  },
  {
   "cell_type": "markdown",
   "id": "2063c456",
   "metadata": {},
   "source": [
    "## Masking\n",
    "#### Masking in image processing refers to the process of isolating or extracting a specific region or object of interest within an image by applying a binary mask. The mask is essentially a binary image of the same dimensions as the original image, where each pixel is marked as either part of the region of interest (ROI) or not. A pixel in the mask is typically set to 1 if it belongs to the ROI and 0 if it does not."
   ]
  },
  {
   "cell_type": "code",
   "execution_count": 20,
   "id": "2b6cd9e8",
   "metadata": {},
   "outputs": [],
   "source": [
    "# image = cv2.imread(\"Dataset/OCT2017/train/DRUSEN/DRUSEN-228939-51.jpeg\", cv2.IMREAD_GRAYSCALE)\n",
    "\n",
    "def enhance_contrast(image):\n",
    "    enhanced_image = cv2.equalizeHist(image)\n",
    "    return enhanced_image\n",
    "\n",
    "# cv2.imwrite(\"enhanced_image.jpg\", enhanced_image)\n",
    "# cv2.imshow('enhance', enhanced_image)\n",
    "# cv2.waitKey(0)\n",
    "# cv2.destroyAllWindows()"
   ]
  },
  {
   "cell_type": "code",
   "execution_count": 21,
   "id": "d93cf6eb",
   "metadata": {},
   "outputs": [],
   "source": [
    "def create_binary_image(image):\n",
    "    _, binary_image = cv2.threshold(image, 128, 255, cv2.THRESH_BINARY)\n",
    "    inverted_binary_image = cv2.bitwise_not(binary_image)\n",
    "    return inverted_binary_image"
   ]
  },
  {
   "cell_type": "code",
   "execution_count": 22,
   "id": "8bff8ace",
   "metadata": {},
   "outputs": [],
   "source": [
    "def perform_edge_detection(image):\n",
    "    blurred = cv2.GaussianBlur(image, (5, 5), 0)\n",
    "    edges = cv2.Canny(blurred, threshold1=30, threshold2=70)\n",
    "    return edges\n",
    "# cv2.imshow('Original Image', image)\n",
    "# cv2.imshow('Edges', edges)\n",
    "# cv2.waitKey(0)\n",
    "# cv2.destroyAllWindows()"
   ]
  },
  {
   "cell_type": "code",
   "execution_count": 23,
   "id": "4b128589",
   "metadata": {},
   "outputs": [],
   "source": [
    "def apply_morphological_operations(edges):\n",
    "    kernel = np.ones((3, 3), np.uint8)\n",
    "    for _ in range(3):\n",
    "        edges = cv2.dilate(edges, kernel, iterations=1)\n",
    "    for _ in range(12):\n",
    "        edges = cv2.erode(edges, kernel, iterations=1)\n",
    "    return edges\n",
    "# cv2.waitKey(0)\n",
    "# cv2.destroyAllWindows()"
   ]
  },
  {
   "cell_type": "code",
   "execution_count": 24,
   "id": "e0cc3b30",
   "metadata": {},
   "outputs": [],
   "source": [
    "def find_contours(image):\n",
    "    contours, _ = cv2.findContours(image, cv2.RETR_EXTERNAL, cv2.CHAIN_APPROX_SIMPLE)\n",
    "    return contours"
   ]
  },
  {
   "cell_type": "code",
   "execution_count": 25,
   "id": "7862b4c7",
   "metadata": {},
   "outputs": [],
   "source": [
    "def extract_largest_roi(image, contours):\n",
    "    if len(contours) > 0:\n",
    "        largest_contour = max(contours, key=cv2.contourArea)\n",
    "        mask = np.zeros_like(image)\n",
    "        cv2.drawContours(mask, [largest_contour], -1, (255), thickness=cv2.FILLED)\n",
    "        roi = cv2.bitwise_and(image, image, mask=mask)\n",
    "        return roi\n",
    "    else:\n",
    "        return None\n",
    " # -1 means draw all contours"
   ]
  },
  {
   "cell_type": "code",
   "execution_count": 11,
   "id": "aef55e4b",
   "metadata": {},
   "outputs": [],
   "source": [
    "def invert_roi(roi):\n",
    "    inverted_roi = cv2.bitwise_not(roi)\n",
    "    return inverted_roi\n",
    "# cv2.waitKey(0)\n",
    "# cv2.destroyAllWindows()"
   ]
  },
  {
   "cell_type": "code",
   "execution_count": 12,
   "id": "b3706882",
   "metadata": {},
   "outputs": [],
   "source": [
    "def extract_and_save_roi(inverted_roi, original_image_path, output_path):\n",
    "    original_image = cv2.imread(original_image_path)\n",
    "    mask = cv2.cvtColor(inverted_roi, cv2.COLOR_GRAY2BGR)  # Convert inverted_roi to a BGR mask\n",
    "    extracted_roi = cv2.bitwise_and(original_image, mask)\n",
    "    cv2.imwrite(output_path, extracted_roi)"
   ]
  },
  {
   "cell_type": "code",
   "execution_count": 13,
   "id": "43cc572b",
   "metadata": {},
   "outputs": [],
   "source": [
    "def process_and_save_image(input_path, output_path):\n",
    "    image = cv2.imread(input_path, cv2.IMREAD_GRAYSCALE)\n",
    "    enhanced_image = enhance_contrast(image)\n",
    "    binary_image = create_binary_image(enhanced_image)\n",
    "    edges = perform_edge_detection(binary_image)\n",
    "    morphological_edges = apply_morphological_operations(edges)\n",
    "    contours = find_contours(morphological_edges)\n",
    "    roi = extract_largest_roi(morphological_edges, contours) \n",
    "    if roi is not None:\n",
    "        inverted_roi = invert_roi(roi)\n",
    "        extract_and_save_roi(inverted_roi, input_path, output_path)"
   ]
  },
  {
   "cell_type": "code",
   "execution_count": 14,
   "id": "ff7fbe4f",
   "metadata": {},
   "outputs": [],
   "source": [
    "def process_image_folder(input_folder, output_folder):\n",
    "    for class_label in os.listdir(input_folder):\n",
    "        class_input_folder = os.path.join(input_folder, class_label)\n",
    "        class_output_folder = os.path.join(output_folder, class_label)\n",
    "        os.makedirs(class_output_folder, exist_ok=True)\n",
    "        for image_file in os.listdir(class_input_folder):\n",
    "            input_path = os.path.join(class_input_folder, image_file)\n",
    "            output_path = os.path.join(class_output_folder, image_file)\n",
    "            process_and_save_image(input_path, output_path)"
   ]
  },
  {
   "cell_type": "code",
   "execution_count": 16,
   "id": "d9251015",
   "metadata": {},
   "outputs": [
    {
     "ename": "KeyboardInterrupt",
     "evalue": "",
     "output_type": "error",
     "traceback": [
      "\u001b[1;31m---------------------------------------------------------------------------\u001b[0m",
      "\u001b[1;31mKeyboardInterrupt\u001b[0m                         Traceback (most recent call last)",
      "Cell \u001b[1;32mIn[16], line 3\u001b[0m\n\u001b[0;32m      1\u001b[0m input_folder \u001b[38;5;241m=\u001b[39m \u001b[38;5;124m'\u001b[39m\u001b[38;5;124mDataset/OCT2017/train\u001b[39m\u001b[38;5;124m'\u001b[39m\n\u001b[0;32m      2\u001b[0m output_folder \u001b[38;5;241m=\u001b[39m \u001b[38;5;124m'\u001b[39m\u001b[38;5;124mProcessedImages\u001b[39m\u001b[38;5;124m'\u001b[39m\n\u001b[1;32m----> 3\u001b[0m process_image_folder(input_folder, output_folder)\n",
      "Cell \u001b[1;32mIn[14], line 9\u001b[0m, in \u001b[0;36mprocess_image_folder\u001b[1;34m(input_folder, output_folder)\u001b[0m\n\u001b[0;32m      7\u001b[0m input_path \u001b[38;5;241m=\u001b[39m os\u001b[38;5;241m.\u001b[39mpath\u001b[38;5;241m.\u001b[39mjoin(class_input_folder, image_file)\n\u001b[0;32m      8\u001b[0m output_path \u001b[38;5;241m=\u001b[39m os\u001b[38;5;241m.\u001b[39mpath\u001b[38;5;241m.\u001b[39mjoin(class_output_folder, image_file)\n\u001b[1;32m----> 9\u001b[0m process_and_save_image(input_path, output_path)\n",
      "Cell \u001b[1;32mIn[13], line 11\u001b[0m, in \u001b[0;36mprocess_and_save_image\u001b[1;34m(input_path, output_path)\u001b[0m\n\u001b[0;32m      9\u001b[0m \u001b[38;5;28;01mif\u001b[39;00m roi \u001b[38;5;129;01mis\u001b[39;00m \u001b[38;5;129;01mnot\u001b[39;00m \u001b[38;5;28;01mNone\u001b[39;00m:\n\u001b[0;32m     10\u001b[0m     inverted_roi \u001b[38;5;241m=\u001b[39m invert_roi(roi)\n\u001b[1;32m---> 11\u001b[0m     extract_and_save_roi(inverted_roi, input_path, output_path)\n",
      "Cell \u001b[1;32mIn[12], line 5\u001b[0m, in \u001b[0;36mextract_and_save_roi\u001b[1;34m(inverted_roi, original_image_path, output_path)\u001b[0m\n\u001b[0;32m      3\u001b[0m mask \u001b[38;5;241m=\u001b[39m cv2\u001b[38;5;241m.\u001b[39mcvtColor(inverted_roi, cv2\u001b[38;5;241m.\u001b[39mCOLOR_GRAY2BGR)  \u001b[38;5;66;03m# Convert inverted_roi to a BGR mask\u001b[39;00m\n\u001b[0;32m      4\u001b[0m extracted_roi \u001b[38;5;241m=\u001b[39m cv2\u001b[38;5;241m.\u001b[39mbitwise_and(original_image, mask)\n\u001b[1;32m----> 5\u001b[0m cv2\u001b[38;5;241m.\u001b[39mimwrite(output_path, extracted_roi)\n",
      "\u001b[1;31mKeyboardInterrupt\u001b[0m: "
     ]
    }
   ],
   "source": [
    "input_folder = 'Dataset/OCT2017/train'\n",
    "output_folder = 'ProcessedImages'\n",
    "process_image_folder(input_folder, output_folder)"
   ]
  },
  {
   "cell_type": "code",
   "execution_count": null,
   "id": "4eccf08b",
   "metadata": {},
   "outputs": [],
   "source": [
    "import cv2\n",
    "import numpy as np\n",
    "original_image = cv2.imread('Dataset/OCT2017/train/DRUSEN/DRUSEN-228939-51.jpeg')\n",
    "mask = cv2.imread('roi.jpg', cv2.IMREAD_GRAYSCALE).astype(np.uint8)\n",
    "extracted_roi = cv2.bitwise_and(original_image, original_image, mask=mask)\n",
    "difference_image = cv2.absdiff(original_image, extracted_roi)\n",
    "cv2.imshow('ROI', extracted_roi)\n",
    "cv2.imwrite(\"difference_image.jpg\",difference_image)\n",
    "cv2.imshow('Difference Image', difference_image)\n",
    "# cv2.waitKey(0)\n",
    "# cv2.destroyAllWindows()"
   ]
  },
  {
   "cell_type": "code",
   "execution_count": 40,
   "id": "1691df9e",
   "metadata": {},
   "outputs": [
    {
     "name": "stdout",
     "output_type": "stream",
     "text": [
      "Found 83154 images belonging to 4 classes.\n"
     ]
    }
   ],
   "source": [
    "processed_train = 'ProcessedImages'\n",
    "#rescale parameter equal to 1/255 to normalize these values\n",
    "processed_train_datagen = ImageDataGenerator(rescale=(1./255))\n",
    "training_set = processed_train_datagen.flow_from_directory(directory = processed_train,target_size=(224,224),batch_size=128,class_mode = \"categorical\")"
   ]
  },
  {
   "cell_type": "code",
   "execution_count": 41,
   "id": "5d752fc1",
   "metadata": {},
   "outputs": [
    {
     "name": "stdout",
     "output_type": "stream",
     "text": [
      "Model: \"model_1\"\n",
      "__________________________________________________________________________________________________\n",
      " Layer (type)                Output Shape                 Param #   Connected to                  \n",
      "==================================================================================================\n",
      " input_2 (InputLayer)        [(None, 224, 224, 3)]        0         []                            \n",
      "                                                                                                  \n",
      " conv2d_15 (Conv2D)          (None, 112, 112, 64)         9472      ['input_2[0][0]']             \n",
      "                                                                                                  \n",
      " batch_normalization_13 (Ba  (None, 112, 112, 64)         256       ['conv2d_15[0][0]']           \n",
      " tchNormalization)                                                                                \n",
      "                                                                                                  \n",
      " re_lu_13 (ReLU)             (None, 112, 112, 64)         0         ['batch_normalization_13[0][0]\n",
      "                                                                    ']                            \n",
      "                                                                                                  \n",
      " max_pooling2d_1 (MaxPoolin  (None, 56, 56, 64)           0         ['re_lu_13[0][0]']            \n",
      " g2D)                                                                                             \n",
      "                                                                                                  \n",
      " conv2d_16 (Conv2D)          (None, 56, 56, 64)           36928     ['max_pooling2d_1[0][0]']     \n",
      "                                                                                                  \n",
      " batch_normalization_14 (Ba  (None, 56, 56, 64)           256       ['conv2d_16[0][0]']           \n",
      " tchNormalization)                                                                                \n",
      "                                                                                                  \n",
      " re_lu_14 (ReLU)             (None, 56, 56, 64)           0         ['batch_normalization_14[0][0]\n",
      "                                                                    ']                            \n",
      "                                                                                                  \n",
      " conv2d_17 (Conv2D)          (None, 56, 56, 64)           36928     ['re_lu_14[0][0]']            \n",
      "                                                                                                  \n",
      " batch_normalization_15 (Ba  (None, 56, 56, 64)           256       ['conv2d_17[0][0]']           \n",
      " tchNormalization)                                                                                \n",
      "                                                                                                  \n",
      " add_6 (Add)                 (None, 56, 56, 64)           0         ['batch_normalization_15[0][0]\n",
      "                                                                    ',                            \n",
      "                                                                     'max_pooling2d_1[0][0]']     \n",
      "                                                                                                  \n",
      " re_lu_15 (ReLU)             (None, 56, 56, 64)           0         ['add_6[0][0]']               \n",
      "                                                                                                  \n",
      " conv2d_18 (Conv2D)          (None, 56, 56, 64)           36928     ['re_lu_15[0][0]']            \n",
      "                                                                                                  \n",
      " batch_normalization_16 (Ba  (None, 56, 56, 64)           256       ['conv2d_18[0][0]']           \n",
      " tchNormalization)                                                                                \n",
      "                                                                                                  \n",
      " re_lu_16 (ReLU)             (None, 56, 56, 64)           0         ['batch_normalization_16[0][0]\n",
      "                                                                    ']                            \n",
      "                                                                                                  \n",
      " conv2d_19 (Conv2D)          (None, 56, 56, 64)           36928     ['re_lu_16[0][0]']            \n",
      "                                                                                                  \n",
      " batch_normalization_17 (Ba  (None, 56, 56, 64)           256       ['conv2d_19[0][0]']           \n",
      " tchNormalization)                                                                                \n",
      "                                                                                                  \n",
      " add_7 (Add)                 (None, 56, 56, 64)           0         ['batch_normalization_17[0][0]\n",
      "                                                                    ',                            \n",
      "                                                                     're_lu_15[0][0]']            \n",
      "                                                                                                  \n",
      " re_lu_17 (ReLU)             (None, 56, 56, 64)           0         ['add_7[0][0]']               \n",
      "                                                                                                  \n",
      " conv2d_20 (Conv2D)          (None, 28, 28, 128)          73856     ['re_lu_17[0][0]']            \n",
      "                                                                                                  \n",
      " batch_normalization_18 (Ba  (None, 28, 28, 128)          512       ['conv2d_20[0][0]']           \n",
      " tchNormalization)                                                                                \n",
      "                                                                                                  \n",
      " re_lu_18 (ReLU)             (None, 28, 28, 128)          0         ['batch_normalization_18[0][0]\n",
      "                                                                    ']                            \n",
      "                                                                                                  \n",
      " conv2d_21 (Conv2D)          (None, 28, 28, 128)          147584    ['re_lu_18[0][0]']            \n",
      "                                                                                                  \n",
      " batch_normalization_19 (Ba  (None, 28, 28, 128)          512       ['conv2d_21[0][0]']           \n",
      " tchNormalization)                                                                                \n",
      "                                                                                                  \n",
      " conv2d_22 (Conv2D)          (None, 28, 28, 128)          8320      ['re_lu_17[0][0]']            \n",
      "                                                                                                  \n",
      " add_8 (Add)                 (None, 28, 28, 128)          0         ['batch_normalization_19[0][0]\n",
      "                                                                    ',                            \n",
      "                                                                     'conv2d_22[0][0]']           \n",
      "                                                                                                  \n",
      " re_lu_19 (ReLU)             (None, 28, 28, 128)          0         ['add_8[0][0]']               \n",
      "                                                                                                  \n",
      " conv2d_23 (Conv2D)          (None, 28, 28, 128)          147584    ['re_lu_19[0][0]']            \n",
      "                                                                                                  \n",
      " batch_normalization_20 (Ba  (None, 28, 28, 128)          512       ['conv2d_23[0][0]']           \n",
      " tchNormalization)                                                                                \n",
      "                                                                                                  \n",
      " re_lu_20 (ReLU)             (None, 28, 28, 128)          0         ['batch_normalization_20[0][0]\n",
      "                                                                    ']                            \n",
      "                                                                                                  \n"
     ]
    },
    {
     "name": "stdout",
     "output_type": "stream",
     "text": [
      " conv2d_24 (Conv2D)          (None, 28, 28, 128)          147584    ['re_lu_20[0][0]']            \n",
      "                                                                                                  \n",
      " batch_normalization_21 (Ba  (None, 28, 28, 128)          512       ['conv2d_24[0][0]']           \n",
      " tchNormalization)                                                                                \n",
      "                                                                                                  \n",
      " add_9 (Add)                 (None, 28, 28, 128)          0         ['batch_normalization_21[0][0]\n",
      "                                                                    ',                            \n",
      "                                                                     're_lu_19[0][0]']            \n",
      "                                                                                                  \n",
      " re_lu_21 (ReLU)             (None, 28, 28, 128)          0         ['add_9[0][0]']               \n",
      "                                                                                                  \n",
      " conv2d_25 (Conv2D)          (None, 14, 14, 256)          295168    ['re_lu_21[0][0]']            \n",
      "                                                                                                  \n",
      " batch_normalization_22 (Ba  (None, 14, 14, 256)          1024      ['conv2d_25[0][0]']           \n",
      " tchNormalization)                                                                                \n",
      "                                                                                                  \n",
      " re_lu_22 (ReLU)             (None, 14, 14, 256)          0         ['batch_normalization_22[0][0]\n",
      "                                                                    ']                            \n",
      "                                                                                                  \n",
      " conv2d_26 (Conv2D)          (None, 14, 14, 256)          590080    ['re_lu_22[0][0]']            \n",
      "                                                                                                  \n",
      " batch_normalization_23 (Ba  (None, 14, 14, 256)          1024      ['conv2d_26[0][0]']           \n",
      " tchNormalization)                                                                                \n",
      "                                                                                                  \n",
      " conv2d_27 (Conv2D)          (None, 14, 14, 256)          33024     ['re_lu_21[0][0]']            \n",
      "                                                                                                  \n",
      " add_10 (Add)                (None, 14, 14, 256)          0         ['batch_normalization_23[0][0]\n",
      "                                                                    ',                            \n",
      "                                                                     'conv2d_27[0][0]']           \n",
      "                                                                                                  \n",
      " re_lu_23 (ReLU)             (None, 14, 14, 256)          0         ['add_10[0][0]']              \n",
      "                                                                                                  \n",
      " conv2d_28 (Conv2D)          (None, 14, 14, 256)          590080    ['re_lu_23[0][0]']            \n",
      "                                                                                                  \n",
      " batch_normalization_24 (Ba  (None, 14, 14, 256)          1024      ['conv2d_28[0][0]']           \n",
      " tchNormalization)                                                                                \n",
      "                                                                                                  \n",
      " re_lu_24 (ReLU)             (None, 14, 14, 256)          0         ['batch_normalization_24[0][0]\n",
      "                                                                    ']                            \n",
      "                                                                                                  \n",
      " conv2d_29 (Conv2D)          (None, 14, 14, 256)          590080    ['re_lu_24[0][0]']            \n",
      "                                                                                                  \n",
      " batch_normalization_25 (Ba  (None, 14, 14, 256)          1024      ['conv2d_29[0][0]']           \n",
      " tchNormalization)                                                                                \n",
      "                                                                                                  \n",
      " add_11 (Add)                (None, 14, 14, 256)          0         ['batch_normalization_25[0][0]\n",
      "                                                                    ',                            \n",
      "                                                                     're_lu_23[0][0]']            \n",
      "                                                                                                  \n",
      " re_lu_25 (ReLU)             (None, 14, 14, 256)          0         ['add_11[0][0]']              \n",
      "                                                                                                  \n",
      " global_average_pooling2d_1  (None, 256)                  0         ['re_lu_25[0][0]']            \n",
      "  (GlobalAveragePooling2D)                                                                        \n",
      "                                                                                                  \n",
      " dense_1 (Dense)             (None, 4)                    1028      ['global_average_pooling2d_1[0\n",
      "                                                                    ][0]']                        \n",
      "                                                                                                  \n",
      "==================================================================================================\n",
      "Total params: 2788996 (10.64 MB)\n",
      "Trainable params: 2785284 (10.63 MB)\n",
      "Non-trainable params: 3712 (14.50 KB)\n",
      "__________________________________________________________________________________________________\n"
     ]
    }
   ],
   "source": [
    "import tensorflow as tf\n",
    "from tensorflow.keras.layers import Input, Conv2D, BatchNormalization, ReLU, MaxPooling2D, GlobalAveragePooling2D, Dense\n",
    "from tensorflow.keras.models import Model\n",
    "\n",
    "def residual_block(x, filters, kernel_size=3, stride=1):\n",
    "    shortcut = x\n",
    "    x = Conv2D(filters, kernel_size, strides=stride, padding='same')(x)\n",
    "    x = BatchNormalization()(x)\n",
    "    x = ReLU()(x)\n",
    "    \n",
    "    x = Conv2D(filters, kernel_size, padding='same')(x)\n",
    "    x = BatchNormalization()(x)\n",
    "    \n",
    "    if stride != 1 or shortcut.shape[-1] != filters:\n",
    "        shortcut = Conv2D(filters, kernel_size=1, strides=stride, padding='same')(shortcut)\n",
    "    \n",
    "    x = tf.keras.layers.Add()([x, shortcut])\n",
    "    x = ReLU()(x)\n",
    "    return x\n",
    "\n",
    "def resnet_2d(input_shape, num_classes):\n",
    "    inputs = Input(shape=input_shape)\n",
    "    \n",
    "    x = Conv2D(64, 7, strides=2, padding='same')(inputs)\n",
    "    x = BatchNormalization()(x)\n",
    "    x = ReLU()(x)\n",
    "    x = MaxPooling2D(pool_size=3, strides=2, padding='same')(x)\n",
    "    \n",
    "    x = residual_block(x, 64)\n",
    "    x = residual_block(x, 64)\n",
    "    x = residual_block(x, 128, stride=2)\n",
    "    x = residual_block(x, 128)\n",
    "    x = residual_block(x, 256, stride=2)\n",
    "    x = residual_block(x, 256)\n",
    "    x = GlobalAveragePooling2D()(x)\n",
    "    \n",
    "    outputs = Dense(num_classes, activation='softmax')(x)\n",
    "    \n",
    "    model = Model(inputs, outputs)\n",
    "    return model\n",
    "\n",
    "# Define your input shape and number of classes\n",
    "input_shape = (224, 224, 3)  # Adjust input shape according to your data\n",
    "num_classes = 4  # Change num_classes according to your task\n",
    "\n",
    "# Create the ResNet-18 model\n",
    "model = resnet_2d(input_shape, num_classes)\n",
    "\n",
    "# Print the model summary\n",
    "model.summary()\n"
   ]
  },
  {
   "cell_type": "code",
   "execution_count": 50,
   "id": "0865be4c",
   "metadata": {},
   "outputs": [],
   "source": [
    "model.compile(\n",
    "    optimizer='adam',\n",
    "    loss='categorical_crossentropy',  # Choose the appropriate loss function\n",
    "    metrics=['accuracy']  # Add more metrics as needed\n",
    ")"
   ]
  },
  {
   "cell_type": "code",
   "execution_count": null,
   "id": "82a77a5c",
   "metadata": {
    "scrolled": true
   },
   "outputs": [
    {
     "name": "stdout",
     "output_type": "stream",
     "text": [
      "Epoch 1/10\n",
      "653/653 [==============================] - 7324s 11s/step - loss: 0.3265 - accuracy: 0.8858 - val_loss: 0.3402 - val_accuracy: 0.8585\n",
      "Epoch 2/10\n",
      "653/653 [==============================] - 33805s 52s/step - loss: 0.1949 - accuracy: 0.9335 - val_loss: 0.1402 - val_accuracy: 0.9556\n",
      "Epoch 3/10\n",
      "653/653 [==============================] - 12940s 20s/step - loss: 0.1607 - accuracy: 0.9450 - val_loss: 0.3049 - val_accuracy: 0.8771\n",
      "Epoch 4/10\n",
      "653/653 [==============================] - 7641s 12s/step - loss: 0.1409 - accuracy: 0.9521 - val_loss: 0.0718 - val_accuracy: 0.9742\n",
      "Epoch 5/10\n",
      "653/653 [==============================] - 8241s 13s/step - loss: 0.1264 - accuracy: 0.9561 - val_loss: 0.0782 - val_accuracy: 0.9824\n",
      "Epoch 6/10\n",
      "653/653 [==============================] - 8008s 12s/step - loss: 0.1151 - accuracy: 0.9602 - val_loss: 0.0164 - val_accuracy: 0.9969\n",
      "Epoch 7/10\n",
      "653/653 [==============================] - 9243s 14s/step - loss: 0.1043 - accuracy: 0.9632 - val_loss: 0.0512 - val_accuracy: 0.9886\n",
      "Epoch 8/10\n",
      "653/653 [==============================] - 8709s 13s/step - loss: 0.0938 - accuracy: 0.9677 - val_loss: 0.0921 - val_accuracy: 0.9669\n",
      "Epoch 9/10\n",
      "653/653 [==============================] - 7589s 12s/step - loss: 0.0836 - accuracy: 0.9708 - val_loss: 0.0933 - val_accuracy: 0.9628\n",
      "Epoch 10/10\n",
      "437/653 [===================>..........] - ETA: 36:53 - loss: 0.0741 - accuracy: 0.9744"
     ]
    }
   ],
   "source": [
    "model.fit(\n",
    "    x=training_set,  \n",
    "    validation_data= test_set, \n",
    "    epochs=10,\n",
    ")"
   ]
  },
  {
   "cell_type": "code",
   "execution_count": 51,
   "id": "2a616901",
   "metadata": {},
   "outputs": [],
   "source": [
    "image_path = r\"Dataset\\OCT2017\\val\\CNV\\CNV-6294785-2.jpeg\"\n",
    "new_img = image.load_img(image_path, target_size=(224, 224))"
   ]
  },
  {
   "cell_type": "code",
   "execution_count": 52,
   "id": "97a69b20",
   "metadata": {},
   "outputs": [
    {
     "name": "stdout",
     "output_type": "stream",
     "text": [
      "1/1 [==============================] - 1s 959ms/step\n"
     ]
    }
   ],
   "source": [
    "img = image.img_to_array(new_img)\n",
    "img = np.expand_dims(img, axis=0)\n",
    "img = img/255\n",
    "prediction = model.predict(img)"
   ]
  },
  {
   "cell_type": "code",
   "execution_count": 53,
   "id": "620123a7",
   "metadata": {},
   "outputs": [
    {
     "data": {
      "text/plain": [
       "array([[0.2576708 , 0.24667235, 0.24488547, 0.2507713 ]], dtype=float32)"
      ]
     },
     "execution_count": 53,
     "metadata": {},
     "output_type": "execute_result"
    }
   ],
   "source": [
    "prediction"
   ]
  },
  {
   "cell_type": "code",
   "execution_count": 54,
   "id": "db055216",
   "metadata": {},
   "outputs": [],
   "source": [
    "predicted_class = np.argmax(prediction)"
   ]
  },
  {
   "cell_type": "code",
   "execution_count": 55,
   "id": "d2114fb0",
   "metadata": {},
   "outputs": [
    {
     "name": "stdout",
     "output_type": "stream",
     "text": [
      "Class predicted 0\n"
     ]
    }
   ],
   "source": [
    "print(\"Class predicted \" + str(predicted_class))"
   ]
  },
  {
   "cell_type": "code",
   "execution_count": 56,
   "id": "7d5d8435",
   "metadata": {},
   "outputs": [
    {
     "name": "stderr",
     "output_type": "stream",
     "text": [
      "C:\\Users\\Dhurika\\anaconda3\\Lib\\site-packages\\keras\\src\\engine\\training.py:3000: UserWarning: You are saving your model as an HDF5 file via `model.save()`. This file format is considered legacy. We recommend using instead the native Keras format, e.g. `model.save('my_model.keras')`.\n",
      "  saving_api.save_model(\n"
     ]
    }
   ],
   "source": [
    "model.save(\"retinal_oct_model.h5\")"
   ]
  },
  {
   "cell_type": "code",
   "execution_count": 57,
   "id": "9db91ea0",
   "metadata": {},
   "outputs": [
    {
     "name": "stdout",
     "output_type": "stream",
     "text": [
      "INFO:tensorflow:Assets written to: C:\\Users\\Dhurika\\AppData\\Local\\Temp\\tmpk4hjtijv\\assets\n"
     ]
    },
    {
     "name": "stderr",
     "output_type": "stream",
     "text": [
      "INFO:tensorflow:Assets written to: C:\\Users\\Dhurika\\AppData\\Local\\Temp\\tmpk4hjtijv\\assets\n"
     ]
    }
   ],
   "source": [
    "import tensorflow as tf\n",
    "model = tf.keras.models.load_model('retinal_oct_model.h5')\n",
    "converter = tf.lite.TFLiteConverter.from_keras_model(model)\n",
    "tflite_model = converter.convert()\n",
    "with open('retinal_oct_model.tflite', 'wb') as f:\n",
    "    f.write(tflite_model)"
   ]
  },
  {
   "cell_type": "code",
   "execution_count": null,
   "id": "0caad3e5",
   "metadata": {},
   "outputs": [],
   "source": []
  }
 ],
 "metadata": {
  "kernelspec": {
   "display_name": "Python 3 (ipykernel)",
   "language": "python",
   "name": "python3"
  },
  "language_info": {
   "codemirror_mode": {
    "name": "ipython",
    "version": 3
   },
   "file_extension": ".py",
   "mimetype": "text/x-python",
   "name": "python",
   "nbconvert_exporter": "python",
   "pygments_lexer": "ipython3",
   "version": "3.11.4"
  }
 },
 "nbformat": 4,
 "nbformat_minor": 5
}
